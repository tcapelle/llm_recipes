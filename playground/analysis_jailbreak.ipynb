{
 "cells": [
  {
   "cell_type": "markdown",
   "metadata": {},
   "source": [
    "# Jailbreak Analysis\n",
    "\n",
    "Let's retrieve the traces of the different prompts and see if we can find any interesting patterns."
   ]
  },
  {
   "cell_type": "code",
   "execution_count": null,
   "metadata": {},
   "outputs": [],
   "source": [
    "import weave\n",
    "\n",
    "PROJECT = \"prompt-eng/llama_405b_jailbreak\""
   ]
  },
  {
   "cell_type": "code",
   "execution_count": null,
   "metadata": {},
   "outputs": [],
   "source": [
    "client = weave.init(PROJECT)"
   ]
  },
  {
   "cell_type": "code",
   "execution_count": null,
   "metadata": {},
   "outputs": [],
   "source": [
    "from weave.trace_server.trace_server_interface import _CallsFilter\n",
    "\n",
    "op_ref = \"weave:///prompt-eng/llama_405b_jailbreak/op/call_llama:t2XmTrp8bmJqcLBIEMib6sQiX1d9Vt2fwRUNtIR0yvs\"\n",
    "\n",
    "filter = _CallsFilter(op_names=[op_ref], trace_roots_only=True)\n",
    "\n",
    "traces = [f for f in client.calls(filter=filter)]"
   ]
  },
  {
   "cell_type": "code",
   "execution_count": null,
   "metadata": {},
   "outputs": [],
   "source": [
    "len(traces)"
   ]
  },
  {
   "cell_type": "code",
   "execution_count": null,
   "metadata": {},
   "outputs": [],
   "source": []
  },
  {
   "cell_type": "code",
   "execution_count": null,
   "metadata": {},
   "outputs": [],
   "source": [
    "call_llama = weave.ref(\"weave:///prompt-eng/llama_405b_jailbreak/op/call_llama:t2XmTrp8bmJqcLBIEMib6sQiX1d9Vt2fwRUNtIR0yvs\").get()\n",
    "\n",
    "traces = [f for f in call_llama.calls()]"
   ]
  },
  {
   "cell_type": "code",
   "execution_count": null,
   "metadata": {},
   "outputs": [],
   "source": [
    "import pandas as pd\n",
    "\n",
    "data = []\n",
    "for t in traces:\n",
    "    data.append({\n",
    "        'prompt': t.inputs[\"prompt\"],\n",
    "        'output': t.output\n",
    "    })\n",
    "\n",
    "df = pd.DataFrame(data)\n",
    "df.head()"
   ]
  },
  {
   "cell_type": "code",
   "execution_count": null,
   "metadata": {},
   "outputs": [],
   "source": []
  }
 ],
 "metadata": {
  "kernelspec": {
   "display_name": "weave",
   "language": "python",
   "name": "python3"
  },
  "language_info": {
   "codemirror_mode": {
    "name": "ipython",
    "version": 3
   },
   "file_extension": ".py",
   "mimetype": "text/x-python",
   "name": "python",
   "nbconvert_exporter": "python",
   "pygments_lexer": "ipython3",
   "version": "3.11.8"
  }
 },
 "nbformat": 4,
 "nbformat_minor": 2
}
